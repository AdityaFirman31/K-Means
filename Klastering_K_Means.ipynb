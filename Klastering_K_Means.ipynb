{
  "nbformat": 4,
  "nbformat_minor": 0,
  "metadata": {
    "colab": {
      "provenance": []
    },
    "kernelspec": {
      "name": "python3",
      "display_name": "Python 3"
    },
    "language_info": {
      "name": "python"
    }
  },
  "cells": [
    {
      "cell_type": "code",
      "execution_count": 3,
      "metadata": {
        "id": "S6acKQmh1T1A"
      },
      "outputs": [],
      "source": [
        "import numpy as np\n",
        "import pandas as pd\n"
      ]
    },
    {
      "cell_type": "code",
      "source": [
        "data_points = np.array([\n",
        "    [1, 4.5],\n",
        "    [3, 6.5],\n",
        "    [4, 4.5],\n",
        "    [7.5, 3.2],\n",
        "    [6, 2.3],\n",
        "    [2.5, 3.8],\n",
        "    [5, 5.5]\n",
        "])"
      ],
      "metadata": {
        "id": "lYH7Mv3C28HC"
      },
      "execution_count": 10,
      "outputs": []
    },
    {
      "cell_type": "code",
      "source": [
        "centroids = np.array([\n",
        "    [3, 4],  # C1\n",
        "    [6, 4]   # C2\n",
        "])"
      ],
      "metadata": {
        "id": "C3JnVASp2-iJ"
      },
      "execution_count": 11,
      "outputs": []
    },
    {
      "cell_type": "code",
      "source": [
        "def euclidean_distance(point, center):\n",
        "    \"\"\"Menghitung jarak Euclidean antara titik data dan centroid.\"\"\"\n",
        "    return np.sqrt(np.sum((point - center) ** 2))"
      ],
      "metadata": {
        "id": "k4VKf7C43AmV"
      },
      "execution_count": 12,
      "outputs": []
    },
    {
      "cell_type": "code",
      "source": [
        "def assign_clusters(data_points, centroids):\n",
        "    \"\"\"Menentukan klaster untuk setiap titik berdasarkan centroid terdekat.\"\"\"\n",
        "    clusters = {0: [], 1: []}\n",
        "\n",
        "    for point in data_points:\n",
        "        distances = [euclidean_distance(point, centroids[j]) for j in range(len(centroids))]\n",
        "        cluster_index = np.argmin(distances)\n",
        "        clusters[cluster_index].append(point)\n",
        "\n",
        "    return clusters\n"
      ],
      "metadata": {
        "id": "OEGSvOBj3Dbq"
      },
      "execution_count": 13,
      "outputs": []
    },
    {
      "cell_type": "code",
      "source": [
        "def update_centroids(clusters):\n",
        "    \"\"\"Menghitung ulang posisi centroid berdasarkan rata-rata klaster.\"\"\"\n",
        "    new_centroids = []\n",
        "    for cluster_idx in clusters:\n",
        "        if clusters[cluster_idx]:\n",
        "            new_centroids.append(np.mean(clusters[cluster_idx], axis=0))\n",
        "        else:\n",
        "            new_centroids.append(centroids[cluster_idx])\n",
        "\n",
        "    return np.array(new_centroids)\n"
      ],
      "metadata": {
        "id": "qFGPk9173Kg9"
      },
      "execution_count": 14,
      "outputs": []
    },
    {
      "cell_type": "code",
      "source": [
        "def kmeans_clustering(data_points, centroids, iterations=10):\n",
        "    \"\"\"Algoritma utama K-Means.\"\"\"\n",
        "    for i in range(iterations):\n",
        "        print(f\"Iteration {i+1}:\")\n",
        "\n",
        "        clusters = assign_clusters(data_points, centroids)\n",
        "        print(f\"Clusters: {clusters}\")\n",
        "\n",
        "\n",
        "        centroids = update_centroids(clusters)\n",
        "        print(f\"Updated Centroids: {centroids}\\n\")\n",
        "\n",
        "    return clusters"
      ],
      "metadata": {
        "id": "fwNFURGX3Qq3"
      },
      "execution_count": 18,
      "outputs": []
    },
    {
      "cell_type": "code",
      "source": [
        "final_clusters = kmeans_clustering(data_points, centroids)\n",
        "\n",
        "print(\"Final Clusters:\")\n",
        "for cluster_idx, points in final_clusters.items():\n",
        "    print(f\"Cluster {cluster_idx+1}: {points}\")"
      ],
      "metadata": {
        "colab": {
          "base_uri": "https://localhost:8080/"
        },
        "id": "9eaGm18d3USl",
        "outputId": "42a6d9e5-f8e1-4c03-a642-ca8d4986cc9c"
      },
      "execution_count": 17,
      "outputs": [
        {
          "output_type": "stream",
          "name": "stdout",
          "text": [
            "Iteration 1:\n",
            "Clusters: {0: [array([1. , 4.5]), array([3. , 6.5]), array([4. , 4.5]), array([2.5, 3.8])], 1: [array([7.5, 3.2]), array([6. , 2.3]), array([5. , 5.5])]}\n",
            "Updated Centroids: [[2.625      4.825     ]\n",
            " [6.16666667 3.66666667]]\n",
            "\n",
            "Iteration 2:\n",
            "Clusters: {0: [array([1. , 4.5]), array([3. , 6.5]), array([4. , 4.5]), array([2.5, 3.8])], 1: [array([7.5, 3.2]), array([6. , 2.3]), array([5. , 5.5])]}\n",
            "Updated Centroids: [[2.625      4.825     ]\n",
            " [6.16666667 3.66666667]]\n",
            "\n",
            "Iteration 3:\n",
            "Clusters: {0: [array([1. , 4.5]), array([3. , 6.5]), array([4. , 4.5]), array([2.5, 3.8])], 1: [array([7.5, 3.2]), array([6. , 2.3]), array([5. , 5.5])]}\n",
            "Updated Centroids: [[2.625      4.825     ]\n",
            " [6.16666667 3.66666667]]\n",
            "\n",
            "Iteration 4:\n",
            "Clusters: {0: [array([1. , 4.5]), array([3. , 6.5]), array([4. , 4.5]), array([2.5, 3.8])], 1: [array([7.5, 3.2]), array([6. , 2.3]), array([5. , 5.5])]}\n",
            "Updated Centroids: [[2.625      4.825     ]\n",
            " [6.16666667 3.66666667]]\n",
            "\n",
            "Iteration 5:\n",
            "Clusters: {0: [array([1. , 4.5]), array([3. , 6.5]), array([4. , 4.5]), array([2.5, 3.8])], 1: [array([7.5, 3.2]), array([6. , 2.3]), array([5. , 5.5])]}\n",
            "Updated Centroids: [[2.625      4.825     ]\n",
            " [6.16666667 3.66666667]]\n",
            "\n",
            "Iteration 6:\n",
            "Clusters: {0: [array([1. , 4.5]), array([3. , 6.5]), array([4. , 4.5]), array([2.5, 3.8])], 1: [array([7.5, 3.2]), array([6. , 2.3]), array([5. , 5.5])]}\n",
            "Updated Centroids: [[2.625      4.825     ]\n",
            " [6.16666667 3.66666667]]\n",
            "\n",
            "Iteration 7:\n",
            "Clusters: {0: [array([1. , 4.5]), array([3. , 6.5]), array([4. , 4.5]), array([2.5, 3.8])], 1: [array([7.5, 3.2]), array([6. , 2.3]), array([5. , 5.5])]}\n",
            "Updated Centroids: [[2.625      4.825     ]\n",
            " [6.16666667 3.66666667]]\n",
            "\n",
            "Iteration 8:\n",
            "Clusters: {0: [array([1. , 4.5]), array([3. , 6.5]), array([4. , 4.5]), array([2.5, 3.8])], 1: [array([7.5, 3.2]), array([6. , 2.3]), array([5. , 5.5])]}\n",
            "Updated Centroids: [[2.625      4.825     ]\n",
            " [6.16666667 3.66666667]]\n",
            "\n",
            "Iteration 9:\n",
            "Clusters: {0: [array([1. , 4.5]), array([3. , 6.5]), array([4. , 4.5]), array([2.5, 3.8])], 1: [array([7.5, 3.2]), array([6. , 2.3]), array([5. , 5.5])]}\n",
            "Updated Centroids: [[2.625      4.825     ]\n",
            " [6.16666667 3.66666667]]\n",
            "\n",
            "Iteration 10:\n",
            "Clusters: {0: [array([1. , 4.5]), array([3. , 6.5]), array([4. , 4.5]), array([2.5, 3.8])], 1: [array([7.5, 3.2]), array([6. , 2.3]), array([5. , 5.5])]}\n",
            "Updated Centroids: [[2.625      4.825     ]\n",
            " [6.16666667 3.66666667]]\n",
            "\n",
            "Final Clusters:\n",
            "Cluster 1: [array([1. , 4.5]), array([3. , 6.5]), array([4. , 4.5]), array([2.5, 3.8])]\n",
            "Cluster 2: [array([7.5, 3.2]), array([6. , 2.3]), array([5. , 5.5])]\n"
          ]
        }
      ]
    }
  ]
}